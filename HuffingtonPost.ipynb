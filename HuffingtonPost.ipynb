{
 "cells": [
  {
   "cell_type": "code",
   "execution_count": 220,
   "metadata": {
    "collapsed": true
   },
   "outputs": [],
   "source": [
    "import json\n",
    "import numpy as np\n",
    "import pandas as pd\n",
    "import time\n",
    "import datetime"
   ]
  },
  {
   "cell_type": "code",
   "execution_count": 221,
   "metadata": {
    "collapsed": true
   },
   "outputs": [],
   "source": [
    "import os\n",
    "os.chdir(\"/home/composersyf/Documents/Political Data Science Project/OtherData\")"
   ]
  },
  {
   "cell_type": "code",
   "execution_count": 222,
   "metadata": {
    "collapsed": false
   },
   "outputs": [],
   "source": [
    "with open(\"2016-national-gop-primary.json\") as json_file:\n",
    "    republican_primary=json_file.readlines()[0]\n",
    "    republican_primary=json.loads(republican_primary)\n",
    "    \n",
    "with open(\"2016-national-democratic-primary.json\") as json_file:\n",
    "    democratic_primary=json_file.readlines()[0]\n",
    "    democratic_primary=json.loads(democratic_primary)\n",
    "    \n",
    "with open(\"2016-general-election-trump-vs-clinton.json\") as json_file:\n",
    "    trump_vs_clinton=json_file.readlines()[0]\n",
    "    trump_vs_clinton=json.loads(trump_vs_clinton)\n",
    "    \n",
    "with open(\"2016-general-election-trump-vs-clinton-vs-johnson.json\") as json_file:\n",
    "    general_election=json_file.readlines()[0]\n",
    "    general_election=json.loads(general_election)    "
   ]
  },
  {
   "cell_type": "code",
   "execution_count": 223,
   "metadata": {
    "collapsed": true
   },
   "outputs": [],
   "source": [
    "def json_to_df(json_data):\n",
    "    primary=json_data[\"estimates_by_date\"]\n",
    "    primary_dict={}\n",
    "    for date in primary:\n",
    "        primary_dict[date['date']]={}\n",
    "        for c in date['estimates']:\n",
    "            primary_dict[date['date']][c['choice']]=c['value']\n",
    "    return pd.DataFrame.from_dict(primary_dict,orient=\"index\").reset_index([0]).rename(columns={\"index\":\"date\"}).sort_values([\"date\"])"
   ]
  },
  {
   "cell_type": "code",
   "execution_count": 224,
   "metadata": {
    "collapsed": false
   },
   "outputs": [],
   "source": [
    "republican_primary_polls=json_to_df(republican_primary)\n",
    "democratic_primary_polls=json_to_df(democratic_primary)\n",
    "trump_vs_clinton_polls=json_to_df(trump_vs_clinton)\n",
    "general_election_polls=json_to_df(general_election)"
   ]
  },
  {
   "cell_type": "code",
   "execution_count": 225,
   "metadata": {
    "collapsed": false
   },
   "outputs": [],
   "source": [
    "day_to_secs=3600*24"
   ]
  },
  {
   "cell_type": "code",
   "execution_count": 226,
   "metadata": {
    "collapsed": true
   },
   "outputs": [],
   "source": [
    "def convert_to_timestamp(date):\n",
    "    return time.mktime(datetime.datetime.strptime(date,\"%Y-%m-%d\").utctimetuple())"
   ]
  },
  {
   "cell_type": "code",
   "execution_count": 227,
   "metadata": {
    "collapsed": true
   },
   "outputs": [],
   "source": [
    "def convert_to_date(timestamp):\n",
    "    regular_date=datetime.datetime.utcfromtimestamp(timestamp)\n",
    "    return str(regular_date.year)+\"-\"+str(regular_date.month).zfill(2)+\"-\"+str(regular_date.day).zfill(2)"
   ]
  },
  {
   "cell_type": "code",
   "execution_count": 228,
   "metadata": {
    "collapsed": false
   },
   "outputs": [],
   "source": [
    "republican_primary_polls['date_unix']=republican_primary_polls.date.apply(convert_to_timestamp)\n",
    "democratic_primary_polls['date_unix']=democratic_primary_polls.date.apply(convert_to_timestamp)\n",
    "trump_vs_clinton_polls['date_unix']=trump_vs_clinton_polls.date.apply(convert_to_timestamp)\n",
    "general_election_polls['date_unix']=general_election_polls.date.apply(convert_to_timestamp)"
   ]
  },
  {
   "cell_type": "code",
   "execution_count": 229,
   "metadata": {
    "collapsed": false
   },
   "outputs": [],
   "source": [
    "def determine_start_and_end_time(candidate,primary_polls):\n",
    "    values=list(primary_polls[candidate])\n",
    "    for i,v in enumerate(values):\n",
    "        if pd.isnull(v)==False:\n",
    "            start_index=i\n",
    "            break\n",
    "    for i in range(len(values)-1,-1,-1):\n",
    "        if pd.isnull(v)==False:\n",
    "            end_index=i\n",
    "            break\n",
    "    return (primary_polls.date_unix[start_index],primary_polls.date_unix[end_index])\n",
    "\n",
    "def calc_day_index(df):\n",
    "    start_time=df.iloc[0,1]\n",
    "    df['day_index']=((df.iloc[:,0]-df.iloc[0,0])/day_to_secs).astype(int)\n",
    "    return df\n",
    "\n",
    "def single_interpolation(df):\n",
    "    df=calc_day_index(df)\n",
    "    df_new=[]\n",
    "    day_index=list(df.day_index)\n",
    "    for i in range(len(day_index)-1):\n",
    "        days=day_index[i+1]-day_index[i]\n",
    "        time_0=df.iloc[i,0]\n",
    "        value_0=df.iloc[i,1]\n",
    "        delta_time=(df.iloc[i+1,0]-df.iloc[i,0])/days\n",
    "        delta_value=(df.iloc[i+1,1]-df.iloc[i,1])/days\n",
    "        for d in range(days):\n",
    "            df_new.append((time_0+d*delta_time,value_0+d*delta_value))\n",
    "    df_new.append((df.iloc[len(day_index)-1,0],df.iloc[len(day_index)-1,1]))\n",
    "    df_new=pd.DataFrame(df_new)\n",
    "    df_new.columns=[\"date_unix\",df.columns.values[1]]\n",
    "    df_new['date_unix']=df_new['date_unix'].astype(int)\n",
    "    df_new=df_new.set_index(['date_unix'])\n",
    "    return df_new\n",
    "\n",
    "def combine_results(df_new):\n",
    "    return pd.concat(df_new,join=\"outer\",axis=1,ignore_index=False)"
   ]
  },
  {
   "cell_type": "code",
   "execution_count": 230,
   "metadata": {
    "collapsed": true
   },
   "outputs": [],
   "source": [
    "def interpolation(primary_polls):\n",
    "    all_candidates=primary_polls.columns.values[1:-1]\n",
    "    new_polls_values=[]\n",
    "    for c in all_candidates:\n",
    "        time_range=determine_start_and_end_time(c,primary_polls)\n",
    "        df=primary_polls[(primary_polls.date_unix>=time_range[0]) & (primary_polls.date_unix<=time_range[1]) & (pd.isnull(primary_polls[c])==False)].loc[:,[\"date_unix\",c]]\n",
    "        new_polls_values.append(single_interpolation(df))\n",
    "    results=combine_results(new_polls_values)\n",
    "    results=results.loc[:,sorted(results.columns.values)]\n",
    "    results=results.reset_index([0])\n",
    "    results['date_unix']=results['date_unix'].apply(convert_to_date)\n",
    "    results=results.rename(columns={\"date_unix\":\"date\"})\n",
    "    return results"
   ]
  },
  {
   "cell_type": "code",
   "execution_count": 231,
   "metadata": {
    "collapsed": false
   },
   "outputs": [],
   "source": [
    "republican_results=interpolation(republican_primary_polls)\n",
    "democratic_results=interpolation(democratic_primary_polls)\n",
    "trump_vs_clinton_results=interpolation(trump_vs_clinton_polls)\n",
    "general_election_results=interpolation(general_election_polls)"
   ]
  },
  {
   "cell_type": "code",
   "execution_count": 233,
   "metadata": {
    "collapsed": false
   },
   "outputs": [],
   "source": [
    "republican_results.to_csv(\"Republican_Primary_Polls.csv\",index=False)\n",
    "democratic_results.to_csv(\"Democratic_Primary_Polls.csv\",index=False)\n",
    "trump_vs_clinton_results.to_csv(\"Trump_vs_Clinton_Polls.csv\",index=False)\n",
    "general_election_results.to_csv(\"2016_General_Election_Polls.csv\",index=False)"
   ]
  },
  {
   "cell_type": "code",
   "execution_count": null,
   "metadata": {
    "collapsed": true
   },
   "outputs": [],
   "source": []
  }
 ],
 "metadata": {
  "kernelspec": {
   "display_name": "Python 3",
   "language": "python",
   "name": "python3"
  },
  "language_info": {
   "codemirror_mode": {
    "name": "ipython",
    "version": 3
   },
   "file_extension": ".py",
   "mimetype": "text/x-python",
   "name": "python",
   "nbconvert_exporter": "python",
   "pygments_lexer": "ipython3",
   "version": "3.5.2"
  }
 },
 "nbformat": 4,
 "nbformat_minor": 0
}
