{
 "cells": [
  {
   "cell_type": "code",
   "execution_count": 8,
   "metadata": {
    "collapsed": true
   },
   "outputs": [],
   "source": [
    "import numpy as np\n",
    "import pandas as pd\n",
    "import csv"
   ]
  },
  {
   "cell_type": "code",
   "execution_count": 9,
   "metadata": {
    "collapsed": false
   },
   "outputs": [],
   "source": [
    "import os\n",
    "input_filepath='/home/composersyf/Documents/Political Data Science Project/at_new' #!!\n",
    "os.chdir(input_filepath)"
   ]
  },
  {
   "cell_type": "code",
   "execution_count": 10,
   "metadata": {
    "collapsed": false
   },
   "outputs": [],
   "source": [
    "month_dict={\"Jan\":\"01\",\"Feb\":\"02\",\"Mar\":\"03\",\"Apr\":\"04\",\"May\":\"05\",\"Jun\":\"06\",\"Jul\":\"07\",\"Aug\":\"08\",\"Sep\":\"09\",\"Oct\":\"10\",\"Nov\":\"11\",\"Dec\":\"12\"}"
   ]
  },
  {
   "cell_type": "code",
   "execution_count": 11,
   "metadata": {
    "collapsed": false
   },
   "outputs": [
    {
     "name": "stdout",
     "output_type": "stream",
     "text": [
      "3709\n"
     ]
    }
   ],
   "source": [
    "import glob\n",
    "file_list=glob.glob(\"*\")\n",
    "print(len(file_list))"
   ]
  },
  {
   "cell_type": "code",
   "execution_count": 12,
   "metadata": {
    "collapsed": false
   },
   "outputs": [
    {
     "name": "stdout",
     "output_type": "stream",
     "text": [
      "['BernieSanders' 'HillaryClinton' 'JohnKasich' 'SenRubioPress' 'SenSanders'\n",
      " 'debates' 'mike_pence' 'realDonaldTrump' 'tedcruz' 'timkaine']\n",
      "['BernieSanders' 'HillaryClinton' 'JohnKasich' 'SenRubioPress' 'SenSanders'\n",
      " 'debates' 'mike_pence' 'realDonaldTrump' 'tedcruz' 'timkaine']\n"
     ]
    },
    {
     "data": {
      "text/plain": [
       "\"\\ncandidate_list=[]\\nfor f in file_list:\\n    candidate_list.append(f.split('_')[1])\\ncandidate_list=np.unique(np.array(candidate_list))\\nprint(candidate_list)\\nname_list=candidate_list\\nprint(name_list)\\n\""
      ]
     },
     "execution_count": 12,
     "metadata": {},
     "output_type": "execute_result"
    }
   ],
   "source": [
    "candidate_list=[]\n",
    "for f in file_list:\n",
    "    candidate_list.append(f.split(',')[1].split('-')[0])\n",
    "candidate_list=np.unique(np.array(candidate_list))\n",
    "print(candidate_list)\n",
    "name_list=candidate_list\n",
    "print(name_list)\n",
    "'''\n",
    "candidate_list=[]\n",
    "for f in file_list:\n",
    "    candidate_list.append(f.split('_')[1])\n",
    "candidate_list=np.unique(np.array(candidate_list))\n",
    "print(candidate_list)\n",
    "name_list=candidate_list\n",
    "print(name_list)\n",
    "'''"
   ]
  },
  {
   "cell_type": "code",
   "execution_count": 13,
   "metadata": {
    "collapsed": false
   },
   "outputs": [],
   "source": [
    "def process_file_list(file_list):\n",
    "    for f in file_list:\n",
    "        with open(f,errors=\"ignore\") as csv_file:\n",
    "            csv_file_reader=csv.reader(csv_file,delimiter=\",\")\n",
    "            i=0\n",
    "            try:\n",
    "                for row in csv_file_reader:\n",
    "                    i+=1\n",
    "                tweets_list=[None]*i\n",
    "            except:\n",
    "                print(\"Troublesome file found: \"+f)\n",
    "                troublesome_files.append(f)\n",
    "                continue            \n",
    "        with open(f,errors=\"ignore\") as csv_file:\n",
    "            csv_file_reader=csv.reader(csv_file,delimiter=\",\")\n",
    "            j=0\n",
    "            for row in csv_file_reader:\n",
    "                if j==0:\n",
    "                    j+=1\n",
    "                    continue\n",
    "                else:\n",
    "                    try:\n",
    "                        date_time=row[7].split(\" \")\n",
    "                        month=month_dict[date_time[1]]\n",
    "                        date='-'.join([date_time[-1],month,date_time[2]])\n",
    "                        tweets_list[j]=[date,row[5],row[6],row[7],row[11]]\n",
    "                        j+=1\n",
    "                    except IndexError:\n",
    "                        print(\"Bad row encountered in \"+f+\":\"+str(row))\n",
    "                        pass\n",
    "            tweets_list_clean=tweets_list[1:j]\n",
    "        tweets_df=pd.DataFrame(tweets_list_clean)\n",
    "        actual_date_list=list(set(tweets_df.iloc[:,0]))\n",
    "        for d in actual_date_list:\n",
    "            try:\n",
    "                daily_file_counts[d]+=1\n",
    "            except KeyError:\n",
    "                daily_file_counts[d]=1\n",
    "            file_name=d+\"_\"+str(daily_file_counts[d])+\".csv\"\n",
    "            tweets_df[tweets_df.iloc[:,0]==d].iloc[:,1:].to_csv(output_filepath+'/'+n+'/'+file_name,index=False,header=False)"
   ]
  },
  {
   "cell_type": "code",
   "execution_count": 14,
   "metadata": {
    "collapsed": false
   },
   "outputs": [],
   "source": [
    "troublesome_files=[]\n",
    "for n in name_list:\n",
    "    try:\n",
    "        output_filepath='/home/composersyf/Documents/Political Data Science Project/New_Output_at' #!!\n",
    "        os.chdir(output_filepath+'/'+n)\n",
    "        daily_file_counts={}\n",
    "        old_file_counts=pd.read_csv(\"daily_file_counts.csv\",header=None)\n",
    "        for i in range(old_file_counts.shape[0]):\n",
    "            daily_file_counts[old_file_counts.iloc[i,0]]=old_file_counts.iloc[i,1]\n",
    "        os.chdir(input_filepath)\n",
    "        n_file_list=glob.glob('*-at*'+n+'*') #!!\n",
    "        #n_file_list=glob.glob('*'+n+'*')\n",
    "        process_file_list(n_file_list)\n",
    "        file_counts=[]\n",
    "        for k in daily_file_counts:\n",
    "            file_counts.append((k,1))\n",
    "        pd.DataFrame(file_counts).to_csv(output_filepath+'/'+n+\"/daily_file_counts.csv\",index=False,header=False)\n",
    "    except NotADirectoryError:\n",
    "        os.chdir(output_filepath)\n",
    "        os.rmdir(n)\n",
    "        continue"
   ]
  },
  {
   "cell_type": "code",
   "execution_count": 15,
   "metadata": {
    "collapsed": false
   },
   "outputs": [
    {
     "data": {
      "text/plain": [
       "[]"
      ]
     },
     "execution_count": 15,
     "metadata": {},
     "output_type": "execute_result"
    }
   ],
   "source": [
    "troublesome_files"
   ]
  },
  {
   "cell_type": "code",
   "execution_count": null,
   "metadata": {
    "collapsed": true
   },
   "outputs": [],
   "source": []
  }
 ],
 "metadata": {
  "kernelspec": {
   "display_name": "Python 3",
   "language": "python",
   "name": "python3"
  },
  "language_info": {
   "codemirror_mode": {
    "name": "ipython",
    "version": 3
   },
   "file_extension": ".py",
   "mimetype": "text/x-python",
   "name": "python",
   "nbconvert_exporter": "python",
   "pygments_lexer": "ipython3",
   "version": "3.5.2"
  }
 },
 "nbformat": 4,
 "nbformat_minor": 0
}
